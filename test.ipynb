{
 "cells": [
  {
   "cell_type": "code",
   "execution_count": 6,
   "metadata": {},
   "outputs": [],
   "source": [
    "from urllib.request import urlopen\n",
    "import json\n",
    "import pandas \n",
    "url = \"https://spring-store-api.herokuapp.com/api/products/pageable?page=0&size=4\"\n",
    "response = urlopen(url)\n",
    "data_json = json.loads(response.read())\n",
    "# print(data_json)\n",
    "data_file = data_json['content']\n",
    "df = pandas.json_normalize(data_file, max_level=1)\n",
    "# print(df)\n",
    "df.to_csv('output.csv', index=False, encoding='utf-8')"
   ]
  },
  {
   "cell_type": "code",
   "execution_count": 8,
   "metadata": {},
   "outputs": [
    {
     "name": "stdout",
     "output_type": "stream",
     "text": [
      "4\n",
      "2\n",
      "3\n",
      "4,2,3,\n"
     ]
    }
   ],
   "source": [
    "import numpy as np # linear algebra\n",
    "import pandas as pd # data processing, CSV file I/O (e.g. pd.read_csv)\n",
    "from sklearn.feature_extraction.text import CountVectorizer\n",
    "from sklearn.metrics.pairwise import cosine_similarity\n",
    "shoes = pd.read_csv('output.csv')\n",
    "new = shoes.drop(columns=['createdBy','createdDate','modifiedBy','modifiedDate','status','images','productInfors'])\n",
    "cv = CountVectorizer(max_features=5000,stop_words='english')\n",
    "# vector.shape\n",
    "vector = cv.fit_transform(new['description']).toarray()\n",
    "similarity = cosine_similarity(vector)\n",
    "# similarity\n",
    "def recommend(shoe):\n",
    "    index = new[new['name'] == shoe].index[0]\n",
    "    distances = sorted(list(enumerate(similarity[index])),reverse=True,key = lambda x: x[1])\n",
    "    s = \"\"\n",
    "    for i in distances[1:6]:\n",
    "        s = s + str(new.iloc[i[0]].id) + \",\"\n",
    "        print (new.iloc[i[0]].id)\n",
    "    return s\n",
    "print(recommend(\"Adidas NMD\"))"
   ]
  }
 ],
 "metadata": {
  "kernelspec": {
   "display_name": "Python 3",
   "language": "python",
   "name": "python3"
  },
  "language_info": {
   "codemirror_mode": {
    "name": "ipython",
    "version": 3
   },
   "file_extension": ".py",
   "mimetype": "text/x-python",
   "name": "python",
   "nbconvert_exporter": "python",
   "pygments_lexer": "ipython3",
   "version": "3.10.11"
  },
  "orig_nbformat": 4
 },
 "nbformat": 4,
 "nbformat_minor": 2
}
